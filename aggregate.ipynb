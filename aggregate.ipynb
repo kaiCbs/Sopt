{
 "cells": [
  {
   "cell_type": "code",
   "execution_count": 5,
   "metadata": {},
   "outputs": [],
   "source": [
    "from aggregate import *\n",
    "from Optimizer import *"
   ]
  },
  {
   "cell_type": "code",
   "execution_count": null,
   "metadata": {},
   "outputs": [],
   "source": [
    "os.path.join(foldpath)"
   ]
  },
  {
   "cell_type": "code",
   "execution_count": 39,
   "metadata": {},
   "outputs": [
    {
     "data": {
      "text/plain": [
       "0.04000000000000001"
      ]
     },
     "execution_count": 39,
     "metadata": {},
     "output_type": "execute_result"
    }
   ],
   "source": []
  },
  {
   "cell_type": "code",
   "execution_count": 3,
   "metadata": {},
   "outputs": [
    {
     "data": {
      "text/plain": [
       "'/mnt/shared/public/for_kai/'"
      ]
     },
     "execution_count": 3,
     "metadata": {},
     "output_type": "execute_result"
    }
   ],
   "source": [
    "def genInput(date=\"20200601\"):\n",
    "    stocks_path = os.path.join(foldpath, \"stocks\", date, \"stocks.csv\")\n",
    "    hold_path = os.path.join(foldpath, \"hold\", date, \"hold.csv\")\n",
    "    sect_path = os.path.join(foldpath, \"para\",date, \"level_Sect.csv\")\n",
    "    scores_path = os.path.join(foldpath, \"score\", \"Score.{}.csv\".format(date))\n",
    "    init_weights_path = os.path.join(foldpath, \"weight\", \"Weight.{}.csv\".format(yesterday(date)))\n",
    "    mv_path = os.path.join(foldpath, \"para\",date, \"num_Mkt.csv\")\n",
    "    trend_path = os.path.join(foldpath, \"para\",date, \"num_Trend.csv\")\n",
    "    sect_cond_path = os.path.join(foldpath, \"condition\", date, \"level_Sect.csv\")\n",
    "    score = pd.read_csv(scores_path)\n",
    "    score[\"Symbol\"] = score.Ticker \n",
    "    score.drop([\"Ticker\"],axis=1, inplace=True)\n",
    "    weights = pd.read_csv(init_weights_path)\n",
    "    if \"symbol\" in weights.columns:\n",
    "        weights[\"Symbol\"] = weights.symbol\n",
    "        weights.drop([\"symbol\"],axis=1, inplace=True)\n",
    "    sect = pd.read_csv(sect_path)\n",
    "    sect[\"Symbol\"] = sect.Symbol.apply(lambda x: int(x.split(\".\")[0]))\n",
    "    mv = pd.read_csv(mv_path)\n",
    "    mv[\"Symbol\"] = mv.Symbol.apply(lambda x: int(x.split(\".\")[0]))\n",
    "    trend = pd.read_csv(trend_path)\n",
    "    trend[\"Symbol\"] = trend.Symbol.apply(lambda x: int(x.split(\".\")[0]))\n",
    "    stocks = pd.read_csv(stocks_path).sort_values(\"Symbol\").reset_index(drop=True)\n",
    "    stocks.Symbol = stocks.Symbol.str.split(\".\").apply(lambda x: int(x[0]))\n",
    "    stocks = pd.merge(stocks, score, on=\"Symbol\", how=\"left\")\n",
    "    stocks = pd.merge(stocks, weights, on=\"Symbol\", how=\"left\")\n",
    "    stocks = pd.merge(stocks, sect, on=\"Symbol\", how=\"left\")\n",
    "    stocks = pd.merge(stocks, mv, on=\"Symbol\", how=\"left\")\n",
    "    stocks = pd.merge(stocks, trend, on=\"Symbol\", how=\"left\")\n",
    "    stocks.set_index(\"Symbol\", inplace=True)\n",
    "    stocks.columns = ['Max', 'tcost', 'scores', 'weights_ystd', 'sect', 'mv', 'trend']\n",
    "    stocks.trend.fillna(stocks.trend.mean(),inplace=True)\n",
    "    stocks.fillna(0, inplace=True)\n",
    "    return stocks"
   ]
  },
  {
   "cell_type": "code",
   "execution_count": 25,
   "metadata": {},
   "outputs": [],
   "source": [
    "date = \"20200601\"\n",
    "\n",
    "stocks_path = os.path.join(foldpath, \"stocks\", date, \"stocks.csv\")\n",
    "hold_path = os.path.join(foldpath, \"hold\", date, \"hold.csv\")\n",
    "sect_path = os.path.join(foldpath, \"para\",date, \"level_Sect.csv\")\n",
    "scores_path = os.path.join(foldpath, \"score\", \"Score.{}.csv\".format(date))\n",
    "init_weights_path = os.path.join(foldpath, \"weight\", \"Weight.{}.csv\".format(yesterday(date)))\n",
    "mv_path = os.path.join(foldpath, \"para\",date, \"num_Mkt.csv\")\n",
    "trend_path = os.path.join(foldpath, \"para\",date, \"num_Trend.csv\")\n",
    "sect_cond_path = os.path.join(foldpath, \"condition\", date, \"level_Sect.csv\")\n",
    "score = pd.read_csv(scores_path)\n",
    "score[\"Symbol\"] = score.Ticker \n",
    "score.drop([\"Ticker\"],axis=1, inplace=True)\n",
    "weights = pd.read_csv(init_weights_path)\n",
    "if \"symbol\" in weights.columns:\n",
    "    weights[\"Symbol\"] = weights.symbol\n",
    "    weights.drop([\"symbol\"],axis=1, inplace=True)\n",
    "sect = pd.read_csv(sect_path)\n",
    "sect[\"Symbol\"] = sect.Symbol.apply(lambda x: int(x.split(\".\")[0]))\n",
    "mv = pd.read_csv(mv_path)\n",
    "mv[\"Symbol\"] = mv.Symbol.apply(lambda x: int(x.split(\".\")[0]))\n",
    "trend = pd.read_csv(trend_path)\n",
    "trend[\"Symbol\"] = trend.Symbol.apply(lambda x: int(x.split(\".\")[0]))\n",
    "stocks = pd.read_csv(stocks_path).sort_values(\"Symbol\").reset_index(drop=True)\n",
    "stocks.Symbol = stocks.Symbol.str.split(\".\").apply(lambda x: int(x[0]))\n",
    "stocks = pd.merge(stocks, score, on=\"Symbol\", how=\"left\")\n",
    "stocks = pd.merge(stocks, weights, on=\"Symbol\", how=\"left\")\n",
    "stocks = pd.merge(stocks, sect, on=\"Symbol\", how=\"left\")\n",
    "stocks = pd.merge(stocks, mv, on=\"Symbol\", how=\"left\")\n",
    "stocks = pd.merge(stocks, trend, on=\"Symbol\", how=\"left\")\n",
    "stocks.set_index(\"Symbol\", inplace=True)\n",
    "stocks.columns = ['Max', 'tcost', 'scores', 'weights_ystd', 'sect', 'mv', 'trend']\n",
    "stocks.trend.fillna(stocks.trend.mean(),inplace=True)\n",
    "stocks.fillna(0, inplace=True)\n"
   ]
  },
  {
   "cell_type": "code",
   "execution_count": 26,
   "metadata": {},
   "outputs": [
    {
     "data": {
      "text/plain": [
       "Max             0\n",
       "tcost           0\n",
       "scores          0\n",
       "weights_ystd    0\n",
       "sect            0\n",
       "mv              0\n",
       "trend           0\n",
       "dtype: int64"
      ]
     },
     "execution_count": 26,
     "metadata": {},
     "output_type": "execute_result"
    }
   ],
   "source": [
    "stocks.isnull().sum()"
   ]
  },
  {
   "cell_type": "code",
   "execution_count": null,
   "metadata": {},
   "outputs": [],
   "source": [
    "\n"
   ]
  }
 ],
 "metadata": {
  "kernelspec": {
   "display_name": "Python 3",
   "language": "python",
   "name": "python3"
  },
  "language_info": {
   "codemirror_mode": {
    "name": "ipython",
    "version": 3
   },
   "file_extension": ".py",
   "mimetype": "text/x-python",
   "name": "python",
   "nbconvert_exporter": "python",
   "pygments_lexer": "ipython3",
   "version": "3.7.6"
  }
 },
 "nbformat": 4,
 "nbformat_minor": 4
}
